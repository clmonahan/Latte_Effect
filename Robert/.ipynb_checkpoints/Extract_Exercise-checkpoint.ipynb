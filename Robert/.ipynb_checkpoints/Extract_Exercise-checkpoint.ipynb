{
 "cells": [
  {
   "cell_type": "code",
   "execution_count": 1,
   "metadata": {},
   "outputs": [],
   "source": [
    "import pandas as pd\n",
    "from sqlalchemy import create_engine\n",
    "import pymysql\n",
    "pymysql.install_as_MySQLdb()\n",
    "import os\n",
    "from secrets import username, password"
   ]
  },
  {
   "cell_type": "markdown",
   "metadata": {},
   "source": [
    "Extract CSVs into DataFrames"
   ]
  },
  {
   "cell_type": "code",
   "execution_count": 2,
   "metadata": {},
   "outputs": [
    {
     "data": {
      "text/html": [
       "<div>\n",
       "<style scoped>\n",
       "    .dataframe tbody tr th:only-of-type {\n",
       "        vertical-align: middle;\n",
       "    }\n",
       "\n",
       "    .dataframe tbody tr th {\n",
       "        vertical-align: top;\n",
       "    }\n",
       "\n",
       "    .dataframe thead th {\n",
       "        text-align: right;\n",
       "    }\n",
       "</style>\n",
       "<table border=\"1\" class=\"dataframe\">\n",
       "  <thead>\n",
       "    <tr style=\"text-align: right;\">\n",
       "      <th></th>\n",
       "      <th>Unnamed: 0</th>\n",
       "      <th>Exercise</th>\n",
       "      <th>100</th>\n",
       "      <th>125</th>\n",
       "      <th>150</th>\n",
       "      <th>175</th>\n",
       "      <th>200</th>\n",
       "      <th>250</th>\n",
       "      <th>300</th>\n",
       "    </tr>\n",
       "  </thead>\n",
       "  <tbody>\n",
       "    <tr>\n",
       "      <th>0</th>\n",
       "      <td>0</td>\n",
       "      <td>Aerobics: low impact</td>\n",
       "      <td>4.385965</td>\n",
       "      <td>5.494505</td>\n",
       "      <td>6.578947</td>\n",
       "      <td>7.692308</td>\n",
       "      <td>8.771930</td>\n",
       "      <td>11.111111</td>\n",
       "      <td>13.157895</td>\n",
       "    </tr>\n",
       "    <tr>\n",
       "      <th>1</th>\n",
       "      <td>1</td>\n",
       "      <td>Aerobics: high impact</td>\n",
       "      <td>5.617978</td>\n",
       "      <td>7.042254</td>\n",
       "      <td>8.333333</td>\n",
       "      <td>9.803922</td>\n",
       "      <td>11.111111</td>\n",
       "      <td>13.888889</td>\n",
       "      <td>16.666667</td>\n",
       "    </tr>\n",
       "    <tr>\n",
       "      <th>2</th>\n",
       "      <td>2</td>\n",
       "      <td>Aerobics, Step: low impact</td>\n",
       "      <td>5.617978</td>\n",
       "      <td>7.042254</td>\n",
       "      <td>8.333333</td>\n",
       "      <td>9.803922</td>\n",
       "      <td>11.111111</td>\n",
       "      <td>13.888889</td>\n",
       "      <td>16.666667</td>\n",
       "    </tr>\n",
       "    <tr>\n",
       "      <th>3</th>\n",
       "      <td>3</td>\n",
       "      <td>Aerobics, Step: high impact</td>\n",
       "      <td>7.936508</td>\n",
       "      <td>10.000000</td>\n",
       "      <td>11.904762</td>\n",
       "      <td>13.888889</td>\n",
       "      <td>16.129032</td>\n",
       "      <td>20.000000</td>\n",
       "      <td>23.809524</td>\n",
       "    </tr>\n",
       "    <tr>\n",
       "      <th>4</th>\n",
       "      <td>4</td>\n",
       "      <td>Aerobics: water</td>\n",
       "      <td>3.205128</td>\n",
       "      <td>4.000000</td>\n",
       "      <td>4.807692</td>\n",
       "      <td>5.617978</td>\n",
       "      <td>6.410256</td>\n",
       "      <td>7.936508</td>\n",
       "      <td>9.615385</td>\n",
       "    </tr>\n",
       "  </tbody>\n",
       "</table>\n",
       "</div>"
      ],
      "text/plain": [
       "   Unnamed: 0                     Exercise       100        125        150  \\\n",
       "0           0         Aerobics: low impact  4.385965   5.494505   6.578947   \n",
       "1           1        Aerobics: high impact  5.617978   7.042254   8.333333   \n",
       "2           2   Aerobics, Step: low impact  5.617978   7.042254   8.333333   \n",
       "3           3  Aerobics, Step: high impact  7.936508  10.000000  11.904762   \n",
       "4           4              Aerobics: water  3.205128   4.000000   4.807692   \n",
       "\n",
       "         175        200        250        300  \n",
       "0   7.692308   8.771930  11.111111  13.157895  \n",
       "1   9.803922  11.111111  13.888889  16.666667  \n",
       "2   9.803922  11.111111  13.888889  16.666667  \n",
       "3  13.888889  16.129032  20.000000  23.809524  \n",
       "4   5.617978   6.410256   7.936508   9.615385  "
      ]
     },
     "execution_count": 2,
     "metadata": {},
     "output_type": "execute_result"
    }
   ],
   "source": [
    "source_file = os.path.join(\".\",\"calperminute.csv\")\n",
    "cal_df = pd.read_csv(source_file)\n",
    "cal_df.head()"
   ]
  },
  {
   "cell_type": "code",
   "execution_count": 3,
   "metadata": {},
   "outputs": [
    {
     "data": {
      "text/html": [
       "<div>\n",
       "<style scoped>\n",
       "    .dataframe tbody tr th:only-of-type {\n",
       "        vertical-align: middle;\n",
       "    }\n",
       "\n",
       "    .dataframe tbody tr th {\n",
       "        vertical-align: top;\n",
       "    }\n",
       "\n",
       "    .dataframe thead th {\n",
       "        text-align: right;\n",
       "    }\n",
       "</style>\n",
       "<table border=\"1\" class=\"dataframe\">\n",
       "  <thead>\n",
       "    <tr style=\"text-align: right;\">\n",
       "      <th></th>\n",
       "      <th>Exercise</th>\n",
       "      <th>100</th>\n",
       "      <th>125</th>\n",
       "      <th>150</th>\n",
       "      <th>175</th>\n",
       "      <th>200</th>\n",
       "      <th>250</th>\n",
       "      <th>300</th>\n",
       "    </tr>\n",
       "  </thead>\n",
       "  <tbody>\n",
       "    <tr>\n",
       "      <th>0</th>\n",
       "      <td>Aerobics: low impact</td>\n",
       "      <td>4.385965</td>\n",
       "      <td>5.494505</td>\n",
       "      <td>6.578947</td>\n",
       "      <td>7.692308</td>\n",
       "      <td>8.771930</td>\n",
       "      <td>11.111111</td>\n",
       "      <td>13.157895</td>\n",
       "    </tr>\n",
       "    <tr>\n",
       "      <th>1</th>\n",
       "      <td>Aerobics: high impact</td>\n",
       "      <td>5.617978</td>\n",
       "      <td>7.042254</td>\n",
       "      <td>8.333333</td>\n",
       "      <td>9.803922</td>\n",
       "      <td>11.111111</td>\n",
       "      <td>13.888889</td>\n",
       "      <td>16.666667</td>\n",
       "    </tr>\n",
       "    <tr>\n",
       "      <th>2</th>\n",
       "      <td>Aerobics, Step: low impact</td>\n",
       "      <td>5.617978</td>\n",
       "      <td>7.042254</td>\n",
       "      <td>8.333333</td>\n",
       "      <td>9.803922</td>\n",
       "      <td>11.111111</td>\n",
       "      <td>13.888889</td>\n",
       "      <td>16.666667</td>\n",
       "    </tr>\n",
       "    <tr>\n",
       "      <th>3</th>\n",
       "      <td>Aerobics, Step: high impact</td>\n",
       "      <td>7.936508</td>\n",
       "      <td>10.000000</td>\n",
       "      <td>11.904762</td>\n",
       "      <td>13.888889</td>\n",
       "      <td>16.129032</td>\n",
       "      <td>20.000000</td>\n",
       "      <td>23.809524</td>\n",
       "    </tr>\n",
       "    <tr>\n",
       "      <th>4</th>\n",
       "      <td>Aerobics: water</td>\n",
       "      <td>3.205128</td>\n",
       "      <td>4.000000</td>\n",
       "      <td>4.807692</td>\n",
       "      <td>5.617978</td>\n",
       "      <td>6.410256</td>\n",
       "      <td>7.936508</td>\n",
       "      <td>9.615385</td>\n",
       "    </tr>\n",
       "  </tbody>\n",
       "</table>\n",
       "</div>"
      ],
      "text/plain": [
       "                      Exercise       100        125        150        175  \\\n",
       "0         Aerobics: low impact  4.385965   5.494505   6.578947   7.692308   \n",
       "1        Aerobics: high impact  5.617978   7.042254   8.333333   9.803922   \n",
       "2   Aerobics, Step: low impact  5.617978   7.042254   8.333333   9.803922   \n",
       "3  Aerobics, Step: high impact  7.936508  10.000000  11.904762  13.888889   \n",
       "4              Aerobics: water  3.205128   4.000000   4.807692   5.617978   \n",
       "\n",
       "         200        250        300  \n",
       "0   8.771930  11.111111  13.157895  \n",
       "1  11.111111  13.888889  16.666667  \n",
       "2  11.111111  13.888889  16.666667  \n",
       "3  16.129032  20.000000  23.809524  \n",
       "4   6.410256   7.936508   9.615385  "
      ]
     },
     "execution_count": 3,
     "metadata": {},
     "output_type": "execute_result"
    }
   ],
   "source": [
    "new_cal_df = cal_df[['Exercise', '100', '125', '150', '175', '200', '250', '300']]\n",
    "new_cal_df.head()"
   ]
  },
  {
   "cell_type": "markdown",
   "metadata": {},
   "source": [
    "Create database connection"
   ]
  },
  {
   "cell_type": "code",
   "execution_count": 5,
   "metadata": {},
   "outputs": [
    {
     "data": {
      "text/plain": [
       "<sqlalchemy.engine.result.ResultProxy at 0x121c7acc0>"
      ]
     },
     "execution_count": 5,
     "metadata": {},
     "output_type": "execute_result"
    }
   ],
   "source": [
    "#connection_string = \"robertsayler@gmail.com:z7SSFub5bG8D9Jq@127.0.0.1/customer_db\"\n",
    "rawDbName = \"Exercise_Raw\"\n",
    "rds_connection_string = f\"{username}:{password}@127.0.0.1/\"\n",
    "engine = create_engine(f'mysql://{rds_connection_string}')\n",
    "\n",
    "connection = engine.connect()\n",
    "#connection.execute('CREATE DATABASE Exercise_Raw;')\n",
    "connection.execute('USE Exercise_Raw;')"
   ]
  },
  {
   "cell_type": "code",
   "execution_count": 6,
   "metadata": {},
   "outputs": [],
   "source": [
    "db_connection_string = f\"{username}:{password}@localhost/{rawDbName}\"\n",
    "db_engine = create_engine(f'mysql://{db_connection_string}')\n",
    "\n",
    "# Confirm tables\n",
    "db_engine.table_names()\n",
    "new_cal_df.to_sql(name='Calories per Minute', con=db_engine, if_exists='replace', index = False)"
   ]
  },
  {
   "cell_type": "code",
   "execution_count": null,
   "metadata": {},
   "outputs": [],
   "source": []
  },
  {
   "cell_type": "code",
   "execution_count": null,
   "metadata": {},
   "outputs": [],
   "source": []
  }
 ],
 "metadata": {
  "kernelspec": {
   "display_name": "Python 3",
   "language": "python",
   "name": "python3"
  },
  "language_info": {
   "codemirror_mode": {
    "name": "ipython",
    "version": 3
   },
   "file_extension": ".py",
   "mimetype": "text/x-python",
   "name": "python",
   "nbconvert_exporter": "python",
   "pygments_lexer": "ipython3",
   "version": "3.7.1"
  }
 },
 "nbformat": 4,
 "nbformat_minor": 2
}
