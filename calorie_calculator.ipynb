{
 "cells": [
  {
   "cell_type": "code",
   "execution_count": 1,
   "metadata": {},
   "outputs": [],
   "source": [
    "# Dependencies\n",
    "import numpy as np\n",
    "import pandas as pd\n",
    "from random import sample"
   ]
  },
  {
   "cell_type": "code",
   "execution_count": 2,
   "metadata": {},
   "outputs": [],
   "source": [
    "#Read in Files\n",
    "menu_items = pd.read_csv(\"Starbucks/Output/full_menu.csv\")\n",
    "exer_df = pd.read_csv(\"Robert/Output/calperminute.csv\")"
   ]
  },
  {
   "cell_type": "code",
   "execution_count": 3,
   "metadata": {},
   "outputs": [
    {
     "data": {
      "text/html": [
       "<div>\n",
       "<style scoped>\n",
       "    .dataframe tbody tr th:only-of-type {\n",
       "        vertical-align: middle;\n",
       "    }\n",
       "\n",
       "    .dataframe tbody tr th {\n",
       "        vertical-align: top;\n",
       "    }\n",
       "\n",
       "    .dataframe thead th {\n",
       "        text-align: right;\n",
       "    }\n",
       "</style>\n",
       "<table border=\"1\" class=\"dataframe\">\n",
       "  <thead>\n",
       "    <tr style=\"text-align: right;\">\n",
       "      <th></th>\n",
       "      <th>Item</th>\n",
       "      <th>Calories</th>\n",
       "    </tr>\n",
       "  </thead>\n",
       "  <tbody>\n",
       "    <tr>\n",
       "      <th>0</th>\n",
       "      <td>Cool Lime Starbucks Refreshersâ„¢ Beverage</td>\n",
       "      <td>45</td>\n",
       "    </tr>\n",
       "  </tbody>\n",
       "</table>\n",
       "</div>"
      ],
      "text/plain": [
       "                                         Item  Calories\n",
       "0  Cool Lime Starbucks Refreshersâ„¢ Beverage        45"
      ]
     },
     "execution_count": 3,
     "metadata": {},
     "output_type": "execute_result"
    }
   ],
   "source": [
    "menu_cals = menu_items[['Item', 'Calories']]\n",
    "item = menu_cals.head(1)\n",
    "item"
   ]
  },
  {
   "cell_type": "code",
   "execution_count": 4,
   "metadata": {},
   "outputs": [
    {
     "data": {
      "text/html": [
       "<div>\n",
       "<style scoped>\n",
       "    .dataframe tbody tr th:only-of-type {\n",
       "        vertical-align: middle;\n",
       "    }\n",
       "\n",
       "    .dataframe tbody tr th {\n",
       "        vertical-align: top;\n",
       "    }\n",
       "\n",
       "    .dataframe thead th {\n",
       "        text-align: right;\n",
       "    }\n",
       "</style>\n",
       "<table border=\"1\" class=\"dataframe\">\n",
       "  <thead>\n",
       "    <tr style=\"text-align: right;\">\n",
       "      <th></th>\n",
       "      <th>Exercise</th>\n",
       "      <th>100</th>\n",
       "      <th>125</th>\n",
       "      <th>150</th>\n",
       "      <th>175</th>\n",
       "      <th>200</th>\n",
       "      <th>250</th>\n",
       "      <th>300</th>\n",
       "    </tr>\n",
       "  </thead>\n",
       "  <tbody>\n",
       "    <tr>\n",
       "      <th>0</th>\n",
       "      <td>Aerobics: low impact</td>\n",
       "      <td>4.385965</td>\n",
       "      <td>5.494505</td>\n",
       "      <td>6.578947</td>\n",
       "      <td>7.692308</td>\n",
       "      <td>8.771930</td>\n",
       "      <td>11.111111</td>\n",
       "      <td>13.157895</td>\n",
       "    </tr>\n",
       "    <tr>\n",
       "      <th>1</th>\n",
       "      <td>Aerobics: high impact</td>\n",
       "      <td>5.617978</td>\n",
       "      <td>7.042254</td>\n",
       "      <td>8.333333</td>\n",
       "      <td>9.803922</td>\n",
       "      <td>11.111111</td>\n",
       "      <td>13.888889</td>\n",
       "      <td>16.666667</td>\n",
       "    </tr>\n",
       "    <tr>\n",
       "      <th>2</th>\n",
       "      <td>Aerobics, Step: low impact</td>\n",
       "      <td>5.617978</td>\n",
       "      <td>7.042254</td>\n",
       "      <td>8.333333</td>\n",
       "      <td>9.803922</td>\n",
       "      <td>11.111111</td>\n",
       "      <td>13.888889</td>\n",
       "      <td>16.666667</td>\n",
       "    </tr>\n",
       "    <tr>\n",
       "      <th>3</th>\n",
       "      <td>Aerobics, Step: high impact</td>\n",
       "      <td>7.936508</td>\n",
       "      <td>10.000000</td>\n",
       "      <td>11.904762</td>\n",
       "      <td>13.888889</td>\n",
       "      <td>16.129032</td>\n",
       "      <td>20.000000</td>\n",
       "      <td>23.809524</td>\n",
       "    </tr>\n",
       "    <tr>\n",
       "      <th>4</th>\n",
       "      <td>Aerobics: water</td>\n",
       "      <td>3.205128</td>\n",
       "      <td>4.000000</td>\n",
       "      <td>4.807692</td>\n",
       "      <td>5.617978</td>\n",
       "      <td>6.410256</td>\n",
       "      <td>7.936508</td>\n",
       "      <td>9.615385</td>\n",
       "    </tr>\n",
       "  </tbody>\n",
       "</table>\n",
       "</div>"
      ],
      "text/plain": [
       "                      Exercise       100        125        150        175  \\\n",
       "0         Aerobics: low impact  4.385965   5.494505   6.578947   7.692308   \n",
       "1        Aerobics: high impact  5.617978   7.042254   8.333333   9.803922   \n",
       "2   Aerobics, Step: low impact  5.617978   7.042254   8.333333   9.803922   \n",
       "3  Aerobics, Step: high impact  7.936508  10.000000  11.904762  13.888889   \n",
       "4              Aerobics: water  3.205128   4.000000   4.807692   5.617978   \n",
       "\n",
       "         200        250        300  \n",
       "0   8.771930  11.111111  13.157895  \n",
       "1  11.111111  13.888889  16.666667  \n",
       "2  11.111111  13.888889  16.666667  \n",
       "3  16.129032  20.000000  23.809524  \n",
       "4   6.410256   7.936508   9.615385  "
      ]
     },
     "execution_count": 4,
     "metadata": {},
     "output_type": "execute_result"
    }
   ],
   "source": [
    "exer_df= exer_df[['Exercise', '100', '125', '150', '175', '200', '250', '300']]\n",
    "exer_df.head()"
   ]
  },
  {
   "cell_type": "code",
   "execution_count": 5,
   "metadata": {},
   "outputs": [
    {
     "name": "stdout",
     "output_type": "stream",
     "text": [
      "Enter your weight:100\n"
     ]
    }
   ],
   "source": [
    "weight = input(\"Enter your weight:\")"
   ]
  },
  {
   "cell_type": "code",
   "execution_count": 6,
   "metadata": {},
   "outputs": [
    {
     "data": {
      "text/html": [
       "<div>\n",
       "<style scoped>\n",
       "    .dataframe tbody tr th:only-of-type {\n",
       "        vertical-align: middle;\n",
       "    }\n",
       "\n",
       "    .dataframe tbody tr th {\n",
       "        vertical-align: top;\n",
       "    }\n",
       "\n",
       "    .dataframe thead th {\n",
       "        text-align: right;\n",
       "    }\n",
       "</style>\n",
       "<table border=\"1\" class=\"dataframe\">\n",
       "  <thead>\n",
       "    <tr style=\"text-align: right;\">\n",
       "      <th></th>\n",
       "      <th>Exercise</th>\n",
       "      <th>100</th>\n",
       "      <th>125</th>\n",
       "      <th>150</th>\n",
       "      <th>175</th>\n",
       "      <th>200</th>\n",
       "      <th>250</th>\n",
       "      <th>300</th>\n",
       "    </tr>\n",
       "  </thead>\n",
       "  <tbody>\n",
       "    <tr>\n",
       "      <th>25</th>\n",
       "      <td>Gymnastics</td>\n",
       "      <td>3.205128</td>\n",
       "      <td>4.000000</td>\n",
       "      <td>4.807692</td>\n",
       "      <td>5.617978</td>\n",
       "      <td>6.410256</td>\n",
       "      <td>7.936508</td>\n",
       "      <td>9.615385</td>\n",
       "    </tr>\n",
       "    <tr>\n",
       "      <th>33</th>\n",
       "      <td>Rock Climbing: ascending</td>\n",
       "      <td>8.771930</td>\n",
       "      <td>11.111111</td>\n",
       "      <td>13.157895</td>\n",
       "      <td>15.625000</td>\n",
       "      <td>17.857143</td>\n",
       "      <td>21.739130</td>\n",
       "      <td>26.315789</td>\n",
       "    </tr>\n",
       "    <tr>\n",
       "      <th>28</th>\n",
       "      <td>Horseback Riding</td>\n",
       "      <td>3.205128</td>\n",
       "      <td>4.000000</td>\n",
       "      <td>4.807692</td>\n",
       "      <td>5.617978</td>\n",
       "      <td>6.410256</td>\n",
       "      <td>7.936508</td>\n",
       "      <td>9.615385</td>\n",
       "    </tr>\n",
       "    <tr>\n",
       "      <th>52</th>\n",
       "      <td>Volleyball: non-competitive</td>\n",
       "      <td>2.403846</td>\n",
       "      <td>2.994012</td>\n",
       "      <td>3.597122</td>\n",
       "      <td>4.201681</td>\n",
       "      <td>4.807692</td>\n",
       "      <td>6.024096</td>\n",
       "      <td>7.246377</td>\n",
       "    </tr>\n",
       "    <tr>\n",
       "      <th>4</th>\n",
       "      <td>Aerobics: water</td>\n",
       "      <td>3.205128</td>\n",
       "      <td>4.000000</td>\n",
       "      <td>4.807692</td>\n",
       "      <td>5.617978</td>\n",
       "      <td>6.410256</td>\n",
       "      <td>7.936508</td>\n",
       "      <td>9.615385</td>\n",
       "    </tr>\n",
       "  </tbody>\n",
       "</table>\n",
       "</div>"
      ],
      "text/plain": [
       "                       Exercise       100        125        150        175  \\\n",
       "25                   Gymnastics  3.205128   4.000000   4.807692   5.617978   \n",
       "33     Rock Climbing: ascending  8.771930  11.111111  13.157895  15.625000   \n",
       "28             Horseback Riding  3.205128   4.000000   4.807692   5.617978   \n",
       "52  Volleyball: non-competitive  2.403846   2.994012   3.597122   4.201681   \n",
       "4               Aerobics: water  3.205128   4.000000   4.807692   5.617978   \n",
       "\n",
       "          200        250        300  \n",
       "25   6.410256   7.936508   9.615385  \n",
       "33  17.857143  21.739130  26.315789  \n",
       "28   6.410256   7.936508   9.615385  \n",
       "52   4.807692   6.024096   7.246377  \n",
       "4    6.410256   7.936508   9.615385  "
      ]
     },
     "execution_count": 6,
     "metadata": {},
     "output_type": "execute_result"
    }
   ],
   "source": [
    "five=exer_df.take(np.random.permutation(len(exer_df))[:5])\n",
    "five.head()"
   ]
  },
  {
   "cell_type": "code",
   "execution_count": 7,
   "metadata": {},
   "outputs": [
    {
     "name": "stdout",
     "output_type": "stream",
     "text": [
      "Enter your weight:100\n"
     ]
    }
   ],
   "source": [
    "weight = input(\"Enter your weight:\")"
   ]
  },
  {
   "cell_type": "code",
   "execution_count": 9,
   "metadata": {
    "scrolled": true
   },
   "outputs": [
    {
     "name": "stdout",
     "output_type": "stream",
     "text": [
      "Gymnastics 14\n",
      "Rock Climbing: ascending 5\n",
      "Horseback Riding 14\n",
      "Volleyball: non-competitive 18\n",
      "Aerobics: water 14\n"
     ]
    }
   ],
   "source": [
    "for index, row in five.iterrows():\n",
    "    if weight == '100':\n",
    "        minutes =(int(item['Calories']/row['100']))\n",
    "        print( row['Exercise'], minutes)\n",
    "    if weight == '125':\n",
    "        minutes =(int(item['Calories']/row['100']))\n",
    "        print( row['Exercise'], minutes)\n",
    "    if weight == '150':\n",
    "        minutes =(int(item['Calories']/row['100']))\n",
    "        print( row['Exercise'], minutes)\n",
    "    if weight == '175':\n",
    "        minutes =(int(item['Calories']/row['100']))\n",
    "        print( row['Exercise'], minutes)\n",
    "    if weight == '200':\n",
    "        minutes =(int(item['Calories']/row['100']))\n",
    "        print( row['Exercise'], minutes)\n",
    "    if weight == '250':\n",
    "        minutes =(int(item['Calories']/row['100']))\n",
    "        print( row['Exercise'], minutes)\n",
    "    if weight == '300':\n",
    "        minutes =(int(item['Calories']/row['100']))\n",
    "        print( row['Exercise'], minutes)\n"
   ]
  },
  {
   "cell_type": "code",
   "execution_count": null,
   "metadata": {},
   "outputs": [],
   "source": []
  },
  {
   "cell_type": "code",
   "execution_count": null,
   "metadata": {},
   "outputs": [],
   "source": []
  }
 ],
 "metadata": {
  "kernelspec": {
   "display_name": "Python 3",
   "language": "python",
   "name": "python3"
  },
  "language_info": {
   "codemirror_mode": {
    "name": "ipython",
    "version": 3
   },
   "file_extension": ".py",
   "mimetype": "text/x-python",
   "name": "python",
   "nbconvert_exporter": "python",
   "pygments_lexer": "ipython3",
   "version": "3.7.1"
  }
 },
 "nbformat": 4,
 "nbformat_minor": 2
}
